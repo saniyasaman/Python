{
 "cells": [
  {
   "cell_type": "markdown",
   "metadata": {},
   "source": [
    "# FUNTIONS\n",
    "\n",
    "Block of code to perform a specific task"
   ]
  },
  {
   "cell_type": "raw",
   "metadata": {},
   "source": [
    "1. Defining function:\n",
    "   def function_name():\n",
    "       print/return statement/expression\n",
    "   function_name(input a value)     \n",
    "\n",
    "2. Funtion using Lambda : Lambda is used for multiple expressions, Not necessary to define lambda functions.\n",
    "   a = lambda x: x=x+2+x*x\n",
    "   \n",
    "   1) Lambda with Filter\n",
    "      Filer - Used to filter out individual emelents from a sequence\n",
    "      filter(expression parameter,list_name) \n",
    "      \n",
    "      lis1=[ ] \n",
    "      result=list(filter(lambda x: expression,lis1))    # apply filter - make it list - store in result\n",
    "      result\n",
    "      \n",
    "   2) Lambda with Map\n",
    "      Map - Used to apply a task to all elements in the sequence\n",
    "      map(expression parameter,list_name)\n",
    "      \n",
    "      lis1=[  ]\n",
    "      result=list(map(lambda x: expression, lis1))      # apply map - make it list - store in result\n",
    "      result\n",
    "      \n",
    "   3) Functools library - Reduce function\n",
    "      Reduce - Used to reduce the sequence size  \n",
    "      \n",
    "      lis1= [  ] \n",
    "      result=reduce(lambda x: expression, lis1)         # apply reduce - store reduced single value in result\n",
    "      result"
   ]
  },
  {
   "cell_type": "markdown",
   "metadata": {},
   "source": [
    "# Defining a function"
   ]
  },
  {
   "cell_type": "code",
   "execution_count": 56,
   "metadata": {},
   "outputs": [],
   "source": [
    "# Hello is name of the function\n",
    "def hello():                      \n",
    "    print(\"saniya\")"
   ]
  },
  {
   "cell_type": "code",
   "execution_count": 4,
   "metadata": {},
   "outputs": [
    {
     "name": "stdout",
     "output_type": "stream",
     "text": [
      "saniya\n"
     ]
    }
   ],
   "source": [
    "hello()"
   ]
  },
  {
   "cell_type": "code",
   "execution_count": 25,
   "metadata": {},
   "outputs": [],
   "source": [
    "def add_10(x):                              # addition function\n",
    "    return x+10"
   ]
  },
  {
   "cell_type": "code",
   "execution_count": 17,
   "metadata": {},
   "outputs": [
    {
     "data": {
      "text/plain": [
       "12"
      ]
     },
     "execution_count": 17,
     "metadata": {},
     "output_type": "execute_result"
    }
   ],
   "source": [
    "add_10(2)"
   ]
  },
  {
   "cell_type": "code",
   "execution_count": 23,
   "metadata": {},
   "outputs": [],
   "source": [
    "def subtract_20(x):                         # subtraction function\n",
    "    return 20-x"
   ]
  },
  {
   "cell_type": "code",
   "execution_count": 52,
   "metadata": {},
   "outputs": [
    {
     "data": {
      "text/plain": [
       "18"
      ]
     },
     "execution_count": 52,
     "metadata": {},
     "output_type": "execute_result"
    }
   ],
   "source": [
    "subtract_20(2)"
   ]
  },
  {
   "cell_type": "code",
   "execution_count": 53,
   "metadata": {},
   "outputs": [],
   "source": [
    "def odd_even(x):                             # odd or even function\n",
    "    if x % 2 == 0:\n",
    "        print(x, \"is even\")\n",
    "    else:\n",
    "            print(x, \"is odd\")"
   ]
  },
  {
   "cell_type": "code",
   "execution_count": 54,
   "metadata": {},
   "outputs": [
    {
     "name": "stdout",
     "output_type": "stream",
     "text": [
      "204 is even\n"
     ]
    }
   ],
   "source": [
    "odd_even(204)"
   ]
  },
  {
   "cell_type": "code",
   "execution_count": 55,
   "metadata": {},
   "outputs": [
    {
     "name": "stdout",
     "output_type": "stream",
     "text": [
      "10003 is odd\n"
     ]
    }
   ],
   "source": [
    "odd_even(10003)"
   ]
  },
  {
   "cell_type": "markdown",
   "metadata": {},
   "source": [
    "# Lambda Funtion/ Anonymous Function\n",
    "\n",
    "Not necessary to define"
   ]
  },
  {
   "cell_type": "code",
   "execution_count": 26,
   "metadata": {},
   "outputs": [],
   "source": [
    "g = lambda x: x+x*x"
   ]
  },
  {
   "cell_type": "code",
   "execution_count": 27,
   "metadata": {},
   "outputs": [
    {
     "data": {
      "text/plain": [
       "6"
      ]
     },
     "execution_count": 27,
     "metadata": {},
     "output_type": "execute_result"
    }
   ],
   "source": [
    "g(2)"
   ]
  },
  {
   "cell_type": "markdown",
   "metadata": {},
   "source": [
    "## Lambda with Filter\n",
    "\n",
    "Filter values from a sequence and use\n",
    "\n",
    "filter(parameter,expression)"
   ]
  },
  {
   "cell_type": "code",
   "execution_count": 40,
   "metadata": {},
   "outputs": [
    {
     "data": {
      "text/plain": [
       "[1, 3, 5, 75, 45]"
      ]
     },
     "execution_count": 40,
     "metadata": {},
     "output_type": "execute_result"
    }
   ],
   "source": [
    "lis1 = [1,2,3,4,5,90,80,75,60,50,45]\n",
    "result = list(filter(lambda x: (x%2!=0) ,lis1))      # filter odd elements of lis1 and put it in list then store in result\n",
    "result"
   ]
  },
  {
   "cell_type": "markdown",
   "metadata": {},
   "source": [
    "## Lambda with Map\n",
    "\n",
    "Map : Apply task to all individual elements"
   ]
  },
  {
   "cell_type": "code",
   "execution_count": 51,
   "metadata": {},
   "outputs": [
    {
     "data": {
      "text/plain": [
       "[3, 4, 5, 6, 7, 8]"
      ]
     },
     "execution_count": 51,
     "metadata": {},
     "output_type": "execute_result"
    }
   ],
   "source": [
    "lis1 = [1,2,3,4,5,6]                                  # Multiply all individual elements with 2\n",
    "result = list(map(lambda x: x+2 ,lis1))               # multiply each element of lis1 and put it in list then store in result\n",
    "result"
   ]
  },
  {
   "cell_type": "markdown",
   "metadata": {},
   "source": [
    "# Functools\n",
    "\n",
    "Reduce - Used to get final result from a sequence / Reduce a sequence"
   ]
  },
  {
   "cell_type": "code",
   "execution_count": 43,
   "metadata": {},
   "outputs": [],
   "source": [
    "from functools import reduce"
   ]
  },
  {
   "cell_type": "code",
   "execution_count": 49,
   "metadata": {},
   "outputs": [
    {
     "data": {
      "text/plain": [
       "21"
      ]
     },
     "execution_count": 49,
     "metadata": {},
     "output_type": "execute_result"
    }
   ],
   "source": [
    "lis1 = [1,2,3,4,5,6]      \n",
    "result_of_sum = (reduce(lambda x,y: x+y, lis1))       # final result of sum of sequence\n",
    "result_of_sum"
   ]
  },
  {
   "cell_type": "code",
   "execution_count": null,
   "metadata": {},
   "outputs": [],
   "source": []
  }
 ],
 "metadata": {
  "kernelspec": {
   "display_name": "Python 3",
   "language": "python",
   "name": "python3"
  },
  "language_info": {
   "codemirror_mode": {
    "name": "ipython",
    "version": 3
   },
   "file_extension": ".py",
   "mimetype": "text/x-python",
   "name": "python",
   "nbconvert_exporter": "python",
   "pygments_lexer": "ipython3",
   "version": "3.8.5"
  }
 },
 "nbformat": 4,
 "nbformat_minor": 4
}
