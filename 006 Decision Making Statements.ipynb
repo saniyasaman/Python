{
 "cells": [
  {
   "cell_type": "markdown",
   "metadata": {},
   "source": [
    "# DECISION MAKING\n",
    "\n",
    "1. IF - ELIF - ELSE\n",
    "2. LOOPING STATEMENTS: \n",
    "   - WHILE - Repeat Tasks\n",
    "   - FOR - To iterate in a sequence"
   ]
  },
  {
   "cell_type": "raw",
   "metadata": {},
   "source": [
    "### IF ELIF ELSE\n",
    "\n",
    "1) if(condition): \n",
    "   {\n",
    "   \"space\"Statements to be executed          #space is important\n",
    "   }\n",
    "\n",
    "   else\n",
    "   {\n",
    "   \"space\"Statements to be executed          #space is important\n",
    "   }\n",
    "\n",
    "\n",
    "2) if(condition): \n",
    "   {\n",
    "   \"space\"Statements to be executed          #space is important\n",
    "   }\n",
    "\n",
    "   elif(condition):\n",
    "   {\n",
    "   \"space\"Statements to be executed          #space is important\n",
    "   }\n",
    "\n",
    "   else\n",
    "   {\n",
    "   \"space\"Statements to be executed          #space is important\n",
    "   }\n",
    "\n",
    "\n",
    "### If with Tuple\n",
    "\n",
    "1)  if 'element' in tup1:\n",
    "       print(\"statement\")\n",
    "    \n",
    "    else:\n",
    "       print(\"statement\")\n",
    "\n",
    "\n",
    "### If with List\n",
    "\n",
    "1) if 'element' in lis1:                          \n",
    "      print(\"statement\")\n",
    "    \n",
    "   else:\n",
    "      print(\"statement\")\n",
    "\n",
    "\n",
    "2) if lis1[0] == element:                        \n",
    "      lis1[0] = 'changed element'\n",
    "      print(lis1)\n",
    "\n",
    "\n",
    "### If with Dictionary\n",
    "\n",
    "1) if dict1['keyname'] == value:\n",
    "      print(\"statement\") \n",
    "\n",
    "2)Adding extra  value \n",
    "   if dict1['keyname'] == value:\n",
    "      dict1['keyname']=dict1['keyname']+500 \n",
    "      print(dict1)"
   ]
  },
  {
   "cell_type": "raw",
   "metadata": {},
   "source": [
    "### WHILE STATEMENT\n",
    "\n",
    "while (condition)\n",
    "    print (\"Statement\")\n",
    "   \n",
    "   Example 1:                              Example 2: Tables\n",
    "   i=1\n",
    "   while i<=10:\n",
    "       print(i)\n",
    "       i=i+1\n",
    "   \n",
    "1) WHILE with LIST\n",
    "   a1 = [ 1,2,3 ]\n",
    "   i = 0\n",
    "   while i<len(a1):\n",
    "      a1[i] = a1[i]+100\n",
    "      i=i+1\n",
    "   a1    "
   ]
  },
  {
   "cell_type": "code",
   "execution_count": 5,
   "metadata": {},
   "outputs": [],
   "source": [
    "a=10\n",
    "b=20"
   ]
  },
  {
   "cell_type": "code",
   "execution_count": 10,
   "metadata": {},
   "outputs": [
    {
     "name": "stdout",
     "output_type": "stream",
     "text": [
      "b is greater\n"
     ]
    }
   ],
   "source": [
    "if b>a:                       \n",
    "    print(\"b is greater\")    # with space/indentation before print"
   ]
  },
  {
   "cell_type": "code",
   "execution_count": 12,
   "metadata": {},
   "outputs": [
    {
     "ename": "IndentationError",
     "evalue": "expected an indented block (<ipython-input-12-ed1dc02a5f30>, line 2)",
     "output_type": "error",
     "traceback": [
      "\u001b[1;36m  File \u001b[1;32m\"<ipython-input-12-ed1dc02a5f30>\"\u001b[1;36m, line \u001b[1;32m2\u001b[0m\n\u001b[1;33m    print(\"b is greater\")       # without space/indentation before print\u001b[0m\n\u001b[1;37m    ^\u001b[0m\n\u001b[1;31mIndentationError\u001b[0m\u001b[1;31m:\u001b[0m expected an indented block\n"
     ]
    }
   ],
   "source": [
    "if b>a:                       \n",
    "print(\"b is greater\")       # without space/indentation before print"
   ]
  },
  {
   "cell_type": "code",
   "execution_count": 13,
   "metadata": {},
   "outputs": [
    {
     "name": "stdout",
     "output_type": "stream",
     "text": [
      "b is greater\n"
     ]
    }
   ],
   "source": [
    "if a>b:\n",
    "    print(\"a is greater\")\n",
    "    \n",
    "else:\n",
    "    print(\"b is greater\")"
   ]
  },
  {
   "cell_type": "code",
   "execution_count": 14,
   "metadata": {},
   "outputs": [],
   "source": [
    "a=10\n",
    "b=20\n",
    "c=30"
   ]
  },
  {
   "cell_type": "code",
   "execution_count": 16,
   "metadata": {},
   "outputs": [
    {
     "name": "stdout",
     "output_type": "stream",
     "text": [
      "c is greatest\n"
     ]
    }
   ],
   "source": [
    "if (a>b) & (a>c):\n",
    "    print(\"a is greatest\")\n",
    "    \n",
    "elif (b>a) & (b>c):\n",
    "    print(\"b is greatest\")\n",
    "    \n",
    "else:\n",
    "    print(\"c is greatest\")"
   ]
  },
  {
   "cell_type": "markdown",
   "metadata": {},
   "source": [
    "# IF with TUPLE"
   ]
  },
  {
   "cell_type": "code",
   "execution_count": 17,
   "metadata": {},
   "outputs": [],
   "source": [
    "tup1 = ('a','b','c')"
   ]
  },
  {
   "cell_type": "code",
   "execution_count": 51,
   "metadata": {},
   "outputs": [
    {
     "name": "stdout",
     "output_type": "stream",
     "text": [
      "a is in tup1\n"
     ]
    }
   ],
   "source": [
    "if 'a' in tup1:\n",
    "    print(\"a is in tup1\")\n",
    "    \n",
    "else:\n",
    "    print(\"z is not in tup1\")"
   ]
  },
  {
   "cell_type": "markdown",
   "metadata": {},
   "source": [
    "# IF with LIST"
   ]
  },
  {
   "cell_type": "code",
   "execution_count": 31,
   "metadata": {},
   "outputs": [],
   "source": [
    "lis1 = ['a',1,'b',2,'sam']"
   ]
  },
  {
   "cell_type": "code",
   "execution_count": 52,
   "metadata": {},
   "outputs": [
    {
     "name": "stdout",
     "output_type": "stream",
     "text": [
      " a is in lis1\n"
     ]
    }
   ],
   "source": [
    "if 'a' in lis1:                           # a is in list or not\n",
    "    print(\" a is in lis1\")\n",
    "    \n",
    "else:\n",
    "    print(\"z is not in lis1\")"
   ]
  },
  {
   "cell_type": "code",
   "execution_count": 33,
   "metadata": {},
   "outputs": [
    {
     "name": "stdout",
     "output_type": "stream",
     "text": [
      "index 1 is 1\n"
     ]
    }
   ],
   "source": [
    "if lis1[1] == 1:                          # if given value in that index is present or not\n",
    "    print(\"index 1 is 1\")"
   ]
  },
  {
   "cell_type": "code",
   "execution_count": 34,
   "metadata": {},
   "outputs": [
    {
     "name": "stdout",
     "output_type": "stream",
     "text": [
      "['a', 'b', 'b', 2, 'sam']\n"
     ]
    }
   ],
   "source": [
    "if lis1[1] == 1:                          # if given value is correct, then change it\n",
    "    lis1[1] = 'b'\n",
    "    print(lis1)"
   ]
  },
  {
   "cell_type": "markdown",
   "metadata": {},
   "source": [
    "# IF with DICTIONARY"
   ]
  },
  {
   "cell_type": "code",
   "execution_count": 48,
   "metadata": {},
   "outputs": [],
   "source": [
    "dict1 = {'a':100, 'b':200, 'c':300, 'd':400}"
   ]
  },
  {
   "cell_type": "code",
   "execution_count": 49,
   "metadata": {},
   "outputs": [
    {
     "name": "stdout",
     "output_type": "stream",
     "text": [
      "a is correct\n"
     ]
    }
   ],
   "source": [
    "if dict1['a'] == 100:\n",
    "    print(\"a is correct\")"
   ]
  },
  {
   "cell_type": "code",
   "execution_count": 50,
   "metadata": {},
   "outputs": [
    {
     "name": "stdout",
     "output_type": "stream",
     "text": [
      "{'a': 600, 'b': 200, 'c': 300, 'd': 400}\n"
     ]
    }
   ],
   "source": [
    "if dict1['a'] == 100:\n",
    "    dict1['a']=dict1['a']+500\n",
    "    print(dict1)"
   ]
  },
  {
   "cell_type": "markdown",
   "metadata": {},
   "source": [
    "# LOOPING STATEMENTS\n",
    "\n",
    "Repeat task multiple times"
   ]
  },
  {
   "cell_type": "raw",
   "metadata": {},
   "source": [
    "## WHILE Statement\n",
    "\n",
    "while (condition)\n",
    "    print (\"Statement\")"
   ]
  },
  {
   "cell_type": "code",
   "execution_count": 58,
   "metadata": {},
   "outputs": [
    {
     "name": "stdout",
     "output_type": "stream",
     "text": [
      "1\n",
      "2\n",
      "3\n",
      "4\n",
      "5\n",
      "6\n",
      "7\n",
      "8\n",
      "9\n",
      "10\n"
     ]
    }
   ],
   "source": [
    "i=1\n",
    "while i<=10:\n",
    "    print(i)\n",
    "    i=i+1"
   ]
  },
  {
   "cell_type": "code",
   "execution_count": 63,
   "metadata": {},
   "outputs": [
    {
     "name": "stdout",
     "output_type": "stream",
     "text": [
      "2  *  1  =  2\n",
      "2  *  2  =  4\n",
      "2  *  3  =  6\n",
      "2  *  4  =  8\n",
      "2  *  5  =  10\n",
      "2  *  6  =  12\n",
      "2  *  7  =  14\n",
      "2  *  8  =  16\n",
      "2  *  9  =  18\n",
      "2  *  10  =  20\n"
     ]
    }
   ],
   "source": [
    "# Tables\n",
    "i=1\n",
    "n=2\n",
    "while i<=10:\n",
    "    print( n, ' * ',i, \" = \", n*i )\n",
    "    i=i+1"
   ]
  },
  {
   "cell_type": "markdown",
   "metadata": {},
   "source": [
    "# WHILE with LIST"
   ]
  },
  {
   "cell_type": "code",
   "execution_count": 77,
   "metadata": {},
   "outputs": [],
   "source": [
    "a1 = [ 1,2,3 ]\n",
    "i = 0"
   ]
  },
  {
   "cell_type": "code",
   "execution_count": 78,
   "metadata": {},
   "outputs": [],
   "source": [
    "while i<len(a1):\n",
    "    a1[i] = a1[i]+100\n",
    "    i=i+1"
   ]
  },
  {
   "cell_type": "code",
   "execution_count": 79,
   "metadata": {},
   "outputs": [
    {
     "data": {
      "text/plain": [
       "[101, 102, 103]"
      ]
     },
     "execution_count": 79,
     "metadata": {},
     "output_type": "execute_result"
    }
   ],
   "source": [
    "a1"
   ]
  },
  {
   "cell_type": "markdown",
   "metadata": {},
   "source": [
    "# FOR LOOP\n",
    "\n",
    "Used to iterate in a sequence (tuple, list, dictionary..)"
   ]
  },
  {
   "cell_type": "code",
   "execution_count": 82,
   "metadata": {},
   "outputs": [
    {
     "data": {
      "text/plain": [
       "['mango', 'grapes', 'orange', 'apple']"
      ]
     },
     "execution_count": 82,
     "metadata": {},
     "output_type": "execute_result"
    }
   ],
   "source": [
    "a1 = ['mango','grapes','orange','apple']\n",
    "a1"
   ]
  },
  {
   "cell_type": "code",
   "execution_count": 83,
   "metadata": {},
   "outputs": [
    {
     "name": "stdout",
     "output_type": "stream",
     "text": [
      "mango\n",
      "grapes\n",
      "orange\n",
      "apple\n"
     ]
    }
   ],
   "source": [
    "for i in a1:\n",
    "    print(i)"
   ]
  },
  {
   "cell_type": "code",
   "execution_count": 85,
   "metadata": {},
   "outputs": [],
   "source": [
    "a1 = ['red','blue','green']\n",
    "a2 = ['pen','book','desk']"
   ]
  },
  {
   "cell_type": "code",
   "execution_count": 87,
   "metadata": {},
   "outputs": [
    {
     "name": "stdout",
     "output_type": "stream",
     "text": [
      "red pen\n",
      "red book\n",
      "red desk\n",
      "blue pen\n",
      "blue book\n",
      "blue desk\n",
      "green pen\n",
      "green book\n",
      "green desk\n"
     ]
    }
   ],
   "source": [
    "for i in a1:\n",
    "    for j in a2:\n",
    "        print(i,j)"
   ]
  },
  {
   "cell_type": "code",
   "execution_count": null,
   "metadata": {},
   "outputs": [],
   "source": []
  }
 ],
 "metadata": {
  "kernelspec": {
   "display_name": "Python 3",
   "language": "python",
   "name": "python3"
  },
  "language_info": {
   "codemirror_mode": {
    "name": "ipython",
    "version": 3
   },
   "file_extension": ".py",
   "mimetype": "text/x-python",
   "name": "python",
   "nbconvert_exporter": "python",
   "pygments_lexer": "ipython3",
   "version": "3.8.5"
  }
 },
 "nbformat": 4,
 "nbformat_minor": 4
}
