{
 "cells": [
  {
   "cell_type": "markdown",
   "metadata": {},
   "source": [
    "# DATA STRUCTURES"
   ]
  },
  {
   "cell_type": "raw",
   "metadata": {},
   "source": [
    "TUPLE                                        LIST                                                          FORMAT\n",
    "\n",
    "1. Ordered collection of elements            1. Ordered collection of elements \n",
    "2. ROUND BRACKET () - { a=(1,2,'s') }        2. SQUARE BRACKET [ ] - { a=[1,'s',True,4] }\n",
    "3. HETEROGENOUS                              3. HETEROGENOUS\n",
    "4. IMMUTABLE-Changing elements - CANNOT      4. MUTABLE - Changing elements - Possible { a1[0]='s' }\n",
    "5. Accessing elements                        5. Accessing elements                                         a1[0]\n",
    "6. Length                                    6. Length                                                     len(a1) \n",
    "7. Adding                                    7. Adding                                                     a1+a2\n",
    "8. Repeat / Multiply                         8. Repeat / Multiply                                          a1 * 3\n",
    "9. Concatenate                               9. Concatenate                                                a2 * 3 + a1\n",
    "10. Functions                                10.Functions: \n",
    "   1)Minimum value { min.a1() }                 1)Change/replace { a1[0]='s' }\n",
    "   2)Maximum value { max.a1() }                 2)Pop            { a1.pop() }\n",
    "                                                3)Append         { a1.append('saman') }\n",
    "                                             11.Modifications:\n",
    "                                                1)Reverse        { a1.reverse() }\n",
    "                                                2)Sort           { a1.sort() }\n",
    "                                                3)Insert         { a1.insert(0,'firstplace') }\n",
    "                                             "
   ]
  },
  {
   "cell_type": "raw",
   "metadata": {},
   "source": [
    "DICTIONARY                                    SET   \n",
    "\n",
    "1. Unordered collection of Key:Value pair     1. Unordered and Unindexed collection of elements\n",
    "2. FLOWER BRACKET { }                         2. FLOWER BRACKET { }\n",
    "3. KEYS : VALUES - a1={'a':1,'b':2}           3. No order, no index - a1={1,'a',True}\n",
    "4. Modifications:                             4. Heterogenous\n",
    "   1)Add -adds in last- whole KEY:VALUE       5. Cannot access elements with index number \n",
    "     a1['x']=10                               6. Does not show duplicates\n",
    "   2)Change-changes only VALUE                7. Operations\n",
    "     a1['a']=20                                  1)Adding 1 element            - a1.add('z')\n",
    "5. Functions:                                    2)Updating multiple elements  - a1.update([1,'a',True])\n",
    "   1)Update -like append of list                 3)Removing an element         - a1.remove('x')\n",
    "     adds both KEY:VALUE in last              8. Functions:\n",
    "     a1.update(a2) - a1 then a2                  1)Union - Joining 2 sets -   a1.union(a2)\n",
    "   2)Pop - removes that KEY:VALUE                2)Intersection - Display common btwn 2 sets  - a1.intersection(a2)\n",
    "     a1.pop('b')\n",
    "\n"
   ]
  },
  {
   "cell_type": "markdown",
   "metadata": {},
   "source": [
    "# 1. TUPLE\n",
    "\n",
    "1. Ordered collection of elements enclosed within closed round bracket ()\n",
    "2. Heterogenous - Can be any elements int string/ bool\n",
    "3. Immutable - Non changeable"
   ]
  },
  {
   "cell_type": "code",
   "execution_count": 214,
   "metadata": {},
   "outputs": [
    {
     "data": {
      "text/plain": [
       "tuple"
      ]
     },
     "execution_count": 214,
     "metadata": {},
     "output_type": "execute_result"
    }
   ],
   "source": [
    "tup1 = (1, 'a', True, 10+2j)  # Type\n",
    "type(tup1)"
   ]
  },
  {
   "cell_type": "code",
   "execution_count": 215,
   "metadata": {},
   "outputs": [
    {
     "name": "stdout",
     "output_type": "stream",
     "text": [
      "1\n",
      "True\n"
     ]
    }
   ],
   "source": [
    "print(tup1[0])    # Accessing elements by index number\n",
    "print(tup1[-2])"
   ]
  },
  {
   "cell_type": "code",
   "execution_count": 216,
   "metadata": {},
   "outputs": [
    {
     "data": {
      "text/plain": [
       "(1, 'a')"
      ]
     },
     "execution_count": 216,
     "metadata": {},
     "output_type": "execute_result"
    }
   ],
   "source": [
    "tup1[0:2]"
   ]
  },
  {
   "cell_type": "code",
   "execution_count": 217,
   "metadata": {},
   "outputs": [
    {
     "ename": "TypeError",
     "evalue": "'tuple' object does not support item assignment",
     "output_type": "error",
     "traceback": [
      "\u001b[1;31m---------------------------------------------------------------------------\u001b[0m",
      "\u001b[1;31mTypeError\u001b[0m                                 Traceback (most recent call last)",
      "\u001b[1;32m<ipython-input-217-ef718cd1ced8>\u001b[0m in \u001b[0;36m<module>\u001b[1;34m\u001b[0m\n\u001b[1;32m----> 1\u001b[1;33m \u001b[0mtup1\u001b[0m\u001b[1;33m[\u001b[0m\u001b[1;36m0\u001b[0m\u001b[1;33m]\u001b[0m \u001b[1;33m=\u001b[0m \u001b[1;34m's'\u001b[0m  \u001b[1;31m# Change the element  - IMMUTABLE\u001b[0m\u001b[1;33m\u001b[0m\u001b[1;33m\u001b[0m\u001b[0m\n\u001b[0m",
      "\u001b[1;31mTypeError\u001b[0m: 'tuple' object does not support item assignment"
     ]
    }
   ],
   "source": [
    "tup1[0] = 's'  # Change the element  - IMMUTABLE"
   ]
  },
  {
   "cell_type": "code",
   "execution_count": 21,
   "metadata": {},
   "outputs": [
    {
     "data": {
      "text/plain": [
       "4"
      ]
     },
     "execution_count": 21,
     "metadata": {},
     "output_type": "execute_result"
    }
   ],
   "source": [
    "len(tup1)   # Length of tuple"
   ]
  },
  {
   "cell_type": "code",
   "execution_count": 23,
   "metadata": {},
   "outputs": [
    {
     "data": {
      "text/plain": [
       "((1, 2, 's'), (True, 'a', 3))"
      ]
     },
     "execution_count": 23,
     "metadata": {},
     "output_type": "execute_result"
    }
   ],
   "source": [
    "tup1=(1,2,'s')\n",
    "tup2=(True,'a',3)\n",
    "tup1,tup2"
   ]
  },
  {
   "cell_type": "code",
   "execution_count": 25,
   "metadata": {},
   "outputs": [
    {
     "name": "stdout",
     "output_type": "stream",
     "text": [
      "(1, 2, 's', True, 'a', 3)\n",
      "(True, 'a', 3, 1, 2, 's')\n"
     ]
    }
   ],
   "source": [
    "print(tup1+tup2)  # CONCATENATE / JOIN\n",
    "print(tup2+tup1)"
   ]
  },
  {
   "cell_type": "code",
   "execution_count": 29,
   "metadata": {},
   "outputs": [
    {
     "data": {
      "text/plain": [
       "(1, 2, 's', 1, 2, 's', 1, 2, 's', 1, 2, 's')"
      ]
     },
     "execution_count": 29,
     "metadata": {},
     "output_type": "execute_result"
    }
   ],
   "source": [
    "tup1 * 4  # REPEAT"
   ]
  },
  {
   "cell_type": "code",
   "execution_count": 31,
   "metadata": {},
   "outputs": [
    {
     "data": {
      "text/plain": [
       "(1, 2, 's', 1, 2, 's', True, 'a', 3)"
      ]
     },
     "execution_count": 31,
     "metadata": {},
     "output_type": "execute_result"
    }
   ],
   "source": [
    "tup1*2 + tup2  # REPEAT AND CONCATENATE"
   ]
  },
  {
   "cell_type": "markdown",
   "metadata": {},
   "source": [
    "## Functions of Tuple\n",
    "\n",
    "1. Minimum Value\n",
    "2. Maximum Value"
   ]
  },
  {
   "cell_type": "code",
   "execution_count": 33,
   "metadata": {},
   "outputs": [
    {
     "name": "stdout",
     "output_type": "stream",
     "text": [
      "1\n",
      "10\n"
     ]
    }
   ],
   "source": [
    "tup1= (1,2,3,4,5,6,7,8,9,10)\n",
    "print(min(tup1))              # minimum value\n",
    "print(max(tup1))              # maximum value"
   ]
  },
  {
   "cell_type": "markdown",
   "metadata": {},
   "source": [
    "# 2. LIST\n",
    "\n",
    "1. Ordered collection of elements enclosed in square [  ] brackets\n",
    "2. Heterogenous - Can be any elements int string/ bool\n",
    "3. Mutable - Changeable\n"
   ]
  },
  {
   "cell_type": "code",
   "execution_count": 34,
   "metadata": {},
   "outputs": [
    {
     "data": {
      "text/plain": [
       "list"
      ]
     },
     "execution_count": 34,
     "metadata": {},
     "output_type": "execute_result"
    }
   ],
   "source": [
    "list1 = [1, 'a', True, 2+10j]\n",
    "type(list1)"
   ]
  },
  {
   "cell_type": "code",
   "execution_count": 39,
   "metadata": {},
   "outputs": [
    {
     "name": "stdout",
     "output_type": "stream",
     "text": [
      "1\n",
      "(2+10j)\n"
     ]
    }
   ],
   "source": [
    "print(list1[0])    # Accessing elements by index number\n",
    "print(list1[3])"
   ]
  },
  {
   "cell_type": "code",
   "execution_count": 43,
   "metadata": {
    "scrolled": true
   },
   "outputs": [
    {
     "name": "stdout",
     "output_type": "stream",
     "text": [
      "[True, (2+10j)]\n"
     ]
    }
   ],
   "source": [
    "print(list1[2:])"
   ]
  },
  {
   "cell_type": "code",
   "execution_count": 128,
   "metadata": {},
   "outputs": [
    {
     "name": "stdout",
     "output_type": "stream",
     "text": [
      "4\n",
      "[1, 2, 3, 's', 'a', 'n', 'i', 4, 5]\n",
      "[1, 2, 3, 's', 1, 2, 3, 's', 1, 2, 3, 's']\n",
      "['a', 'n', 'i', 4, 5, 'a', 'n', 'i', 4, 5, 1, 2, 3, 's']\n"
     ]
    }
   ],
   "source": [
    "a1=[1,2,3,'s']\n",
    "a2=['a','n','i',4,5]\n",
    "print(len(a1))           # Length\n",
    "print(a1+a2)             # Adding\n",
    "print(a1 * 3)            # Repeating\n",
    "print(a2 *2 + a1)        # Concatenating"
   ]
  },
  {
   "cell_type": "code",
   "execution_count": null,
   "metadata": {},
   "outputs": [],
   "source": []
  },
  {
   "cell_type": "markdown",
   "metadata": {},
   "source": [
    "## Functions of List\n",
    "\n",
    "1. Changing the element - replacing particular element\n",
    "2. Popping the element - removes last element\n",
    "3. Append the element - adds element in the end"
   ]
  },
  {
   "cell_type": "code",
   "execution_count": 52,
   "metadata": {},
   "outputs": [
    {
     "data": {
      "text/plain": [
       "[1, 'a', 2, True, 'saniya', 3, False]"
      ]
     },
     "execution_count": 52,
     "metadata": {},
     "output_type": "execute_result"
    }
   ],
   "source": [
    "list1 = [1, 'a', 2, True, 'saniya', 3, False]\n",
    "list1"
   ]
  },
  {
   "cell_type": "code",
   "execution_count": 57,
   "metadata": {},
   "outputs": [
    {
     "data": {
      "text/plain": [
       "['s', 'a', 2, True, 'saniya', 3]"
      ]
     },
     "execution_count": 57,
     "metadata": {},
     "output_type": "execute_result"
    }
   ],
   "source": [
    "list1[0] = 's'         # Replacing a with s\n",
    "list1"
   ]
  },
  {
   "cell_type": "code",
   "execution_count": 62,
   "metadata": {},
   "outputs": [
    {
     "data": {
      "text/plain": [
       "['s', 'a', 2, True, 'saniya', 'saman', 'saman']"
      ]
     },
     "execution_count": 62,
     "metadata": {},
     "output_type": "execute_result"
    }
   ],
   "source": [
    "list1.pop()           # Pop - Remove last element\n",
    "list1"
   ]
  },
  {
   "cell_type": "code",
   "execution_count": 69,
   "metadata": {},
   "outputs": [],
   "source": [
    "list1.append('saman')  # Append - Add last element - keeps adding by number of times running"
   ]
  },
  {
   "cell_type": "code",
   "execution_count": 68,
   "metadata": {},
   "outputs": [
    {
     "data": {
      "text/plain": [
       "['s',\n",
       " 'a',\n",
       " 2,\n",
       " True,\n",
       " 'saniya',\n",
       " 'saman',\n",
       " 'saman',\n",
       " 'saman',\n",
       " 'saman',\n",
       " 'saman',\n",
       " 'saman',\n",
       " 'saman']"
      ]
     },
     "execution_count": 68,
     "metadata": {},
     "output_type": "execute_result"
    }
   ],
   "source": [
    "list1"
   ]
  },
  {
   "cell_type": "markdown",
   "metadata": {},
   "source": [
    "## Modifying a List\n",
    "\n",
    "1. Reversing elements\n",
    "2. Sorting a list - for same type of elements - numbers / characters\n",
    "3. Inserting element in specific index number"
   ]
  },
  {
   "cell_type": "code",
   "execution_count": 79,
   "metadata": {},
   "outputs": [
    {
     "data": {
      "text/plain": [
       "[1, 'a', 's', 2, 3, 't']"
      ]
     },
     "execution_count": 79,
     "metadata": {},
     "output_type": "execute_result"
    }
   ],
   "source": [
    "s1 = [1, 'a', 's', 2, 3, 't']\n",
    "s1"
   ]
  },
  {
   "cell_type": "code",
   "execution_count": 83,
   "metadata": {},
   "outputs": [
    {
     "data": {
      "text/plain": [
       "[1, 'a', 's', 2, 3, 't']"
      ]
     },
     "execution_count": 83,
     "metadata": {},
     "output_type": "execute_result"
    }
   ],
   "source": [
    "s1.reverse()      # Reverse elements\n",
    "s1"
   ]
  },
  {
   "cell_type": "code",
   "execution_count": 88,
   "metadata": {},
   "outputs": [
    {
     "data": {
      "text/plain": [
       "['apple', 'mango', 'saniya', 'bat']"
      ]
     },
     "execution_count": 88,
     "metadata": {},
     "output_type": "execute_result"
    }
   ],
   "source": [
    "s1 = ['apple','mango','saniya','bat']\n",
    "s1"
   ]
  },
  {
   "cell_type": "code",
   "execution_count": 93,
   "metadata": {},
   "outputs": [
    {
     "data": {
      "text/plain": [
       "[1, 2, 3, 4]"
      ]
     },
     "execution_count": 93,
     "metadata": {},
     "output_type": "execute_result"
    }
   ],
   "source": [
    "s1.sort()        # Sorting in order\n",
    "s1"
   ]
  },
  {
   "cell_type": "code",
   "execution_count": 94,
   "metadata": {},
   "outputs": [
    {
     "data": {
      "text/plain": [
       "[3, 1, 4, 2]"
      ]
     },
     "execution_count": 94,
     "metadata": {},
     "output_type": "execute_result"
    }
   ],
   "source": [
    "s1 = [ 3,1,4,2]\n",
    "s1"
   ]
  },
  {
   "cell_type": "code",
   "execution_count": 95,
   "metadata": {},
   "outputs": [
    {
     "data": {
      "text/plain": [
       "[1, 2, 3, 4]"
      ]
     },
     "execution_count": 95,
     "metadata": {},
     "output_type": "execute_result"
    }
   ],
   "source": [
    "s1.sort()\n",
    "s1"
   ]
  },
  {
   "cell_type": "code",
   "execution_count": 100,
   "metadata": {},
   "outputs": [
    {
     "data": {
      "text/plain": [
       "[1, 'a', 2, 'b', True, 3, 'c', False]"
      ]
     },
     "execution_count": 100,
     "metadata": {},
     "output_type": "execute_result"
    }
   ],
   "source": [
    "s1 = [1,'a',2,'b',True,3,'c',False]\n",
    "s1"
   ]
  },
  {
   "cell_type": "code",
   "execution_count": 102,
   "metadata": {},
   "outputs": [
    {
     "data": {
      "text/plain": [
       "[1, 'slap', 'slap', 'a', 2, 'b', True, 3, 'c', False]"
      ]
     },
     "execution_count": 102,
     "metadata": {},
     "output_type": "execute_result"
    }
   ],
   "source": [
    "s1.insert(1,'slap')   # Keeps inserting by number of times we run\n",
    "s1"
   ]
  },
  {
   "cell_type": "markdown",
   "metadata": {},
   "source": [
    "## Basic Operations of List\n",
    "\n",
    "1. Concatenating list (Adding)\n",
    "2. Repeating elements"
   ]
  },
  {
   "cell_type": "code",
   "execution_count": 112,
   "metadata": {},
   "outputs": [
    {
     "data": {
      "text/plain": [
       "[1, 2, 3, 'a', 'b', 'c', 'a', True]"
      ]
     },
     "execution_count": 112,
     "metadata": {},
     "output_type": "execute_result"
    }
   ],
   "source": [
    "s1 = [1,2,3]                    # Adding 2 lists\n",
    "s2 = ['a','b','c','a',True]\n",
    "s1+s2"
   ]
  },
  {
   "cell_type": "code",
   "execution_count": 111,
   "metadata": {},
   "outputs": [
    {
     "data": {
      "text/plain": [
       "[1, 's', 3, True, 5, 1, 's', 3, True, 5, 1, 's', 3, True, 5]"
      ]
     },
     "execution_count": 111,
     "metadata": {},
     "output_type": "execute_result"
    }
   ],
   "source": [
    "s1 = [1,'s',3,True,5]           # Repeating elements\n",
    "s1*3"
   ]
  },
  {
   "cell_type": "code",
   "execution_count": 115,
   "metadata": {},
   "outputs": [
    {
     "data": {
      "text/plain": [
       "['apple',\n",
       " 'mango',\n",
       " 'banana',\n",
       " 'apple',\n",
       " 'mango',\n",
       " 'banana',\n",
       " 'apple',\n",
       " 'mango',\n",
       " 'banana',\n",
       " 1,\n",
       " 2,\n",
       " 3]"
      ]
     },
     "execution_count": 115,
     "metadata": {},
     "output_type": "execute_result"
    }
   ],
   "source": [
    "s1 = [1,2,3]                    # Concatenating lists\n",
    "s2 = ['apple', 'mango', 'banana']\n",
    "s2 *3 + s1"
   ]
  },
  {
   "cell_type": "markdown",
   "metadata": {},
   "source": [
    "# 3. DICTIONARY\n",
    "\n",
    "1. Unordered collection of KEY:VALUE pair enclosed with { }\n",
    "2. Mutable - changeable elements"
   ]
  },
  {
   "cell_type": "code",
   "execution_count": 130,
   "metadata": {},
   "outputs": [],
   "source": [
    "a1 = { 'a':50, 'b':100, 'c':150, 'd':200 }"
   ]
  },
  {
   "cell_type": "code",
   "execution_count": 135,
   "metadata": {},
   "outputs": [
    {
     "name": "stdout",
     "output_type": "stream",
     "text": [
      "{'a': 50, 'b': 100, 'c': 150, 'd': 200}\n",
      "<class 'dict'>\n"
     ]
    }
   ],
   "source": [
    "print(a1)\n",
    "print(type(a1))"
   ]
  },
  {
   "cell_type": "code",
   "execution_count": 138,
   "metadata": {},
   "outputs": [
    {
     "data": {
      "text/plain": [
       "dict_keys(['a', 'b', 'c', 'd'])"
      ]
     },
     "execution_count": 138,
     "metadata": {},
     "output_type": "execute_result"
    }
   ],
   "source": [
    "a1.keys()                            # Accessing keys"
   ]
  },
  {
   "cell_type": "code",
   "execution_count": 139,
   "metadata": {},
   "outputs": [
    {
     "data": {
      "text/plain": [
       "dict_values([50, 100, 150, 200])"
      ]
     },
     "execution_count": 139,
     "metadata": {},
     "output_type": "execute_result"
    }
   ],
   "source": [
    "a1.values()                          # Accessing values "
   ]
  },
  {
   "cell_type": "markdown",
   "metadata": {},
   "source": [
    "## Modifying a dictionary\n",
    "\n",
    "1. Adding element\n",
    "2. Changing element"
   ]
  },
  {
   "cell_type": "code",
   "execution_count": 140,
   "metadata": {},
   "outputs": [
    {
     "data": {
      "text/plain": [
       "{'a': 50, 'b': 100, 'c': 150, 'd': 200}"
      ]
     },
     "execution_count": 140,
     "metadata": {},
     "output_type": "execute_result"
    }
   ],
   "source": [
    "a1"
   ]
  },
  {
   "cell_type": "code",
   "execution_count": 143,
   "metadata": {},
   "outputs": [
    {
     "data": {
      "text/plain": [
       "{'a': 50, 'b': 100, 'c': 150, 'd': 200, 'e': 250}"
      ]
     },
     "execution_count": 143,
     "metadata": {},
     "output_type": "execute_result"
    }
   ],
   "source": [
    "a1['e']=250                        # Adding element\n",
    "a1"
   ]
  },
  {
   "cell_type": "code",
   "execution_count": 144,
   "metadata": {},
   "outputs": [
    {
     "data": {
      "text/plain": [
       "{'a': 300, 'b': 100, 'c': 150, 'd': 200, 'e': 250}"
      ]
     },
     "execution_count": 144,
     "metadata": {},
     "output_type": "execute_result"
    }
   ],
   "source": [
    "a1['a']=300                        # Changing element\n",
    "a1"
   ]
  },
  {
   "cell_type": "markdown",
   "metadata": {},
   "source": [
    "## Functions of dictionary\n",
    "\n",
    "1. Update element\n",
    "2. Pop element"
   ]
  },
  {
   "cell_type": "code",
   "execution_count": 164,
   "metadata": {},
   "outputs": [
    {
     "name": "stdout",
     "output_type": "stream",
     "text": [
      "{'a': 10, 'b': 20, 'c': 30}\n",
      "{'d': 40, 'e': 60}\n"
     ]
    }
   ],
   "source": [
    "a1 = {'a':10, 'b':20, 'c':30} \n",
    "a2 = {'d':40, 'e':50, 'e':60}\n",
    "print(a1)\n",
    "print(a2)"
   ]
  },
  {
   "cell_type": "code",
   "execution_count": 165,
   "metadata": {},
   "outputs": [
    {
     "data": {
      "text/plain": [
       "{'a': 10, 'b': 20, 'c': 30, 'd': 40, 'e': 60}"
      ]
     },
     "execution_count": 165,
     "metadata": {},
     "output_type": "execute_result"
    }
   ],
   "source": [
    "a1.update(a2)                     # Update element\n",
    "a1"
   ]
  },
  {
   "cell_type": "code",
   "execution_count": 166,
   "metadata": {},
   "outputs": [
    {
     "data": {
      "text/plain": [
       "30"
      ]
     },
     "execution_count": 166,
     "metadata": {},
     "output_type": "execute_result"
    }
   ],
   "source": [
    "a1.pop('c')                       # Pops out only once, if v run again, then it is already removed, shows error"
   ]
  },
  {
   "cell_type": "code",
   "execution_count": 167,
   "metadata": {},
   "outputs": [
    {
     "data": {
      "text/plain": [
       "{'a': 10, 'b': 20, 'd': 40, 'e': 60}"
      ]
     },
     "execution_count": 167,
     "metadata": {},
     "output_type": "execute_result"
    }
   ],
   "source": [
    "a1"
   ]
  },
  {
   "cell_type": "markdown",
   "metadata": {},
   "source": [
    "# SET\n",
    "\n",
    "1. Unordered and Unindexed collection of elements in { }\n",
    "2. Mutable - Changeable\n",
    "3. Heterogenous\n",
    "4. Duplicates are not allowed\n",
    "5. Cannot access elements with index number"
   ]
  },
  {
   "cell_type": "code",
   "execution_count": 212,
   "metadata": {},
   "outputs": [
    {
     "data": {
      "text/plain": [
       "{1, 3, 'a'}"
      ]
     },
     "execution_count": 212,
     "metadata": {},
     "output_type": "execute_result"
    }
   ],
   "source": [
    "a1 = {1, 'a', 3, True}\n",
    "a1"
   ]
  },
  {
   "cell_type": "code",
   "execution_count": 169,
   "metadata": {},
   "outputs": [
    {
     "data": {
      "text/plain": [
       "set"
      ]
     },
     "execution_count": 169,
     "metadata": {},
     "output_type": "execute_result"
    }
   ],
   "source": [
    "type(a1)"
   ]
  },
  {
   "cell_type": "code",
   "execution_count": 173,
   "metadata": {},
   "outputs": [
    {
     "data": {
      "text/plain": [
       "{1, 3, 'a', 'sam'}"
      ]
     },
     "execution_count": 173,
     "metadata": {},
     "output_type": "execute_result"
    }
   ],
   "source": [
    "a1 = {1, 'a', 3, 'sam', 1, 'sam'}\n",
    "a1"
   ]
  },
  {
   "cell_type": "markdown",
   "metadata": {},
   "source": [
    "## Operations of Set\n",
    "\n",
    "1. Adding 1 element\n",
    "2. Updating multiple elements\n",
    "3. Removing an element"
   ]
  },
  {
   "cell_type": "code",
   "execution_count": 179,
   "metadata": {},
   "outputs": [
    {
     "data": {
      "text/plain": [
       "{1, 2, 3, False, 'a', 'sam'}"
      ]
     },
     "execution_count": 179,
     "metadata": {},
     "output_type": "execute_result"
    }
   ],
   "source": [
    "a1 = {1,'a',2, True ,False,'sam',3}\n",
    "a1"
   ]
  },
  {
   "cell_type": "code",
   "execution_count": 180,
   "metadata": {},
   "outputs": [
    {
     "data": {
      "text/plain": [
       "{1, 2, 3, False, 'a', 'b', 'sam'}"
      ]
     },
     "execution_count": 180,
     "metadata": {},
     "output_type": "execute_result"
    }
   ],
   "source": [
    "a1.add('b')                        # Adding 1 element\n",
    "a1"
   ]
  },
  {
   "cell_type": "code",
   "execution_count": 201,
   "metadata": {},
   "outputs": [
    {
     "data": {
      "text/plain": [
       "{1, 2, 3, 4, 7, False, 'a', 'b', 'c', 'sam'}"
      ]
     },
     "execution_count": 201,
     "metadata": {},
     "output_type": "execute_result"
    }
   ],
   "source": [
    "a1.add(7)\n",
    "a1"
   ]
  },
  {
   "cell_type": "code",
   "execution_count": 202,
   "metadata": {},
   "outputs": [
    {
     "data": {
      "text/plain": [
       "{1, 2, 3, 4, 5, 7, False, 'a', 'b', 'c', 'sam'}"
      ]
     },
     "execution_count": 202,
     "metadata": {},
     "output_type": "execute_result"
    }
   ],
   "source": [
    "a1.update([4,5,'c'])              # Updating multiple elements\n",
    "a1"
   ]
  },
  {
   "cell_type": "code",
   "execution_count": 203,
   "metadata": {},
   "outputs": [
    {
     "data": {
      "text/plain": [
       "{1, 2, 3, 4, 5, 7, False, 'a', 'b', 'c', 'sam'}"
      ]
     },
     "execution_count": 203,
     "metadata": {},
     "output_type": "execute_result"
    }
   ],
   "source": [
    "a1"
   ]
  },
  {
   "cell_type": "code",
   "execution_count": 204,
   "metadata": {},
   "outputs": [
    {
     "data": {
      "text/plain": [
       "{1, 2, 3, 4, 7, False, 'a', 'b', 'c', 'sam'}"
      ]
     },
     "execution_count": 204,
     "metadata": {},
     "output_type": "execute_result"
    }
   ],
   "source": [
    "a1.remove(5)                     # Removes once, will show error if run again\n",
    "a1"
   ]
  },
  {
   "cell_type": "markdown",
   "metadata": {},
   "source": [
    "## Functions of Set\n",
    "\n",
    "1. Union of 2 sets\n",
    "2. Intersection of 2 sets"
   ]
  },
  {
   "cell_type": "code",
   "execution_count": 209,
   "metadata": {},
   "outputs": [
    {
     "name": "stdout",
     "output_type": "stream",
     "text": [
      "{1, 2, 3, 4}\n",
      "{'a', 'b', 4, 'c'}\n"
     ]
    }
   ],
   "source": [
    "a1={1,2,3,4}\n",
    "a2={'a','b','c',4}\n",
    "print(a1)\n",
    "print(a2)"
   ]
  },
  {
   "cell_type": "code",
   "execution_count": 210,
   "metadata": {},
   "outputs": [
    {
     "data": {
      "text/plain": [
       "{1, 2, 3, 4, 'a', 'b', 'c'}"
      ]
     },
     "execution_count": 210,
     "metadata": {},
     "output_type": "execute_result"
    }
   ],
   "source": [
    "a1.union(a2)                   # Union of 2 sets - joins 2 sets"
   ]
  },
  {
   "cell_type": "code",
   "execution_count": 211,
   "metadata": {},
   "outputs": [
    {
     "data": {
      "text/plain": [
       "{4}"
      ]
     },
     "execution_count": 211,
     "metadata": {},
     "output_type": "execute_result"
    }
   ],
   "source": [
    "a1.intersection(a2)           # Intersection of 2 sets - only shows common elements"
   ]
  },
  {
   "cell_type": "code",
   "execution_count": null,
   "metadata": {},
   "outputs": [],
   "source": []
  }
 ],
 "metadata": {
  "kernelspec": {
   "display_name": "Python 3",
   "language": "python",
   "name": "python3"
  },
  "language_info": {
   "codemirror_mode": {
    "name": "ipython",
    "version": 3
   },
   "file_extension": ".py",
   "mimetype": "text/x-python",
   "name": "python",
   "nbconvert_exporter": "python",
   "pygments_lexer": "ipython3",
   "version": "3.8.5"
  }
 },
 "nbformat": 4,
 "nbformat_minor": 4
}
