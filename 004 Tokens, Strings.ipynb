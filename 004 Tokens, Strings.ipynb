{
 "cells": [
  {
   "cell_type": "markdown",
   "metadata": {},
   "source": [
    "# Token\n",
    "\n",
    "Smallest meaningful component in a program\n",
    "\n",
    "1. Keywords : Special reserved words\n",
    "Eg: if, elif, true, false, and, or, as, non, def, del, class, for, while..\n",
    "\n",
    "2. Identifiers : Names used for Variable, Functions or Objects. It's Case sensitive\n",
    "Eg: student=\"sam\"  - sam\n",
    "    Student=\"bob\"  - bob\n",
    "\n",
    "3. Literals : Constants in python (Values don't change)\n",
    "Eg: a= 10  - 10 is literal\n",
    "\n",
    "4. Operators : Arith, Rel, Logical .."
   ]
  },
  {
   "cell_type": "markdown",
   "metadata": {},
   "source": [
    "# Strings\n",
    "\n",
    "Sequence of characters written in '___',\"___\",''' ___'''\n",
    "\n",
    "\\n - New line\n"
   ]
  },
  {
   "cell_type": "code",
   "execution_count": 7,
   "metadata": {},
   "outputs": [
    {
     "data": {
      "text/plain": [
       "'s'"
      ]
     },
     "execution_count": 7,
     "metadata": {},
     "output_type": "execute_result"
    }
   ],
   "source": [
    "my_string = \"saniya is smart\"  #Accessing letters\n",
    "my_string[0]"
   ]
  },
  {
   "cell_type": "code",
   "execution_count": 8,
   "metadata": {},
   "outputs": [
    {
     "data": {
      "text/plain": [
       "'t'"
      ]
     },
     "execution_count": 8,
     "metadata": {},
     "output_type": "execute_result"
    }
   ],
   "source": [
    "my_string[-1]"
   ]
  },
  {
   "cell_type": "code",
   "execution_count": 9,
   "metadata": {},
   "outputs": [
    {
     "data": {
      "text/plain": [
       "'niya is smart'"
      ]
     },
     "execution_count": 9,
     "metadata": {},
     "output_type": "execute_result"
    }
   ],
   "source": [
    "my_string[2:]"
   ]
  },
  {
   "cell_type": "markdown",
   "metadata": {},
   "source": [
    "## Functions in strings\n",
    "1. Finding length - len(stringname)\n",
    "2. Converting string to lower case  - stringname.lower()\n",
    "3. Converting string to upper case  - stringname.upper()\n",
    "4. Replacing a sub string  - stringname.replace('n','d')\n",
    "5. Counting string  - stringname.count(\"letter or word\")\n",
    "6. Finding index of string  - index value of first letter - index num starts from zero - stringname.find(\"letter or word\") \n",
    "7. Splitting a string  - stringname.split(\"letter or word\")"
   ]
  },
  {
   "cell_type": "code",
   "execution_count": 11,
   "metadata": {},
   "outputs": [
    {
     "name": "stdout",
     "output_type": "stream",
     "text": [
      "15\n",
      "saniya is smart\n",
      "SANIYA IS SMART\n"
     ]
    }
   ],
   "source": [
    "print(len(my_string))\n",
    "print(my_string.lower())\n",
    "print(my_string.upper())"
   ]
  },
  {
   "cell_type": "code",
   "execution_count": 12,
   "metadata": {
    "scrolled": true
   },
   "outputs": [
    {
     "name": "stdout",
     "output_type": "stream",
     "text": [
      "sadiya is smart\n"
     ]
    }
   ],
   "source": [
    "print(my_string.replace('n','d'))"
   ]
  },
  {
   "cell_type": "code",
   "execution_count": 16,
   "metadata": {},
   "outputs": [
    {
     "name": "stdout",
     "output_type": "stream",
     "text": [
      "saniya are smart\n"
     ]
    }
   ],
   "source": [
    "print(my_string.replace('is','are'))"
   ]
  },
  {
   "cell_type": "code",
   "execution_count": 13,
   "metadata": {},
   "outputs": [
    {
     "name": "stdout",
     "output_type": "stream",
     "text": [
      "3\n"
     ]
    }
   ],
   "source": [
    "print(my_string.count('a'))"
   ]
  },
  {
   "cell_type": "code",
   "execution_count": 14,
   "metadata": {},
   "outputs": [
    {
     "name": "stdout",
     "output_type": "stream",
     "text": [
      "1\n"
     ]
    }
   ],
   "source": [
    "print(my_string.count('saniya'))"
   ]
  },
  {
   "cell_type": "code",
   "execution_count": 15,
   "metadata": {},
   "outputs": [
    {
     "name": "stdout",
     "output_type": "stream",
     "text": [
      "0\n"
     ]
    }
   ],
   "source": [
    "print(my_string.count('sadiya'))"
   ]
  },
  {
   "cell_type": "code",
   "execution_count": 18,
   "metadata": {},
   "outputs": [
    {
     "name": "stdout",
     "output_type": "stream",
     "text": [
      "10\n"
     ]
    }
   ],
   "source": [
    "print(my_string.find(\"smart\"))   # index value of 's'mart"
   ]
  },
  {
   "cell_type": "code",
   "execution_count": 19,
   "metadata": {},
   "outputs": [
    {
     "name": "stdout",
     "output_type": "stream",
     "text": [
      "['s', 'niy', ' is sm', 'rt']\n"
     ]
    }
   ],
   "source": [
    "print(my_string.split('a'))"
   ]
  },
  {
   "cell_type": "code",
   "execution_count": 23,
   "metadata": {},
   "outputs": [
    {
     "name": "stdout",
     "output_type": "stream",
     "text": [
      "['saniya ', ' smart']\n"
     ]
    }
   ],
   "source": [
    "print(my_string.split('is'))"
   ]
  },
  {
   "cell_type": "code",
   "execution_count": null,
   "metadata": {},
   "outputs": [],
   "source": []
  }
 ],
 "metadata": {
  "kernelspec": {
   "display_name": "Python 3",
   "language": "python",
   "name": "python3"
  },
  "language_info": {
   "codemirror_mode": {
    "name": "ipython",
    "version": 3
   },
   "file_extension": ".py",
   "mimetype": "text/x-python",
   "name": "python",
   "nbconvert_exporter": "python",
   "pygments_lexer": "ipython3",
   "version": "3.8.5"
  }
 },
 "nbformat": 4,
 "nbformat_minor": 4
}
